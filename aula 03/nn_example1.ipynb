{
 "cells": [
  {
   "cell_type": "code",
   "execution_count": null,
   "metadata": {},
   "outputs": [],
   "source": [
    "import sklearn\n",
    " \n",
    "## import the iris dataset for classification\n",
    " \n",
    "from sklearn import datasets\n",
    "iris=sklearn.datasets.load_iris()\n",
    " \n",
    "## print some data, to see the imported dataset\n",
    "print(\"Printing some sample data from the iris dataset\")\n",
    "for training_sample in list(zip(iris.data,iris.target))[:5]:\n",
    "    print(training_sample)"
   ]
  },
  {
   "cell_type": "code",
   "execution_count": null,
   "metadata": {},
   "outputs": [],
   "source": [
    "## save the features and class\n",
    "features=iris.data   \t# split iris dataset into features and iris_class\n",
    "iris_class=iris.target  # class[X] is output corresponding to features[X]\n",
    "print(iris.data)\n",
    "print(iris.target)"
   ]
  },
  {
   "cell_type": "code",
   "execution_count": null,
   "metadata": {},
   "outputs": [],
   "source": [
    "## Split the dataset into training (70%) and testing (30%)\n",
    "## Note that the shuffle parameter has been used in splitting.\n",
    "print(\"Splitting the data into testing and training samples\")\n",
    "from sklearn.model_selection import train_test_split\n",
    "ratio_train, ratio_test = 0.7 , 0.3\n",
    "features_train, features_test,iris_class_train, iris_class_test = train_test_split(features,iris_class, train_size=ratio_train, test_size=ratio_test, shuffle=True)"
   ]
  },
  {
   "cell_type": "code",
   "execution_count": null,
   "metadata": {},
   "outputs": [],
   "source": [
    "## data preprocessing: Before training the network we must scale the feature data\n",
    "print(\"Data preprocessing\")\n",
    "from sklearn.preprocessing import StandardScaler\n",
    "scaler = StandardScaler()\n",
    "scaler.fit(features_train)\n",
    "features_train_scale = scaler.transform(features_train)\n",
    "features_test_scale = scaler.transform(features_test)"
   ]
  },
  {
   "cell_type": "code",
   "execution_count": null,
   "metadata": {},
   "outputs": [],
   "source": [
    "## The MLPClassifier and MLPRegressor are sklearn implementations of NNs\n",
    " \n",
    "from sklearn.neural_network import MLPClassifier\n",
    "iterations=1000   # define the iterations for training over the dataset\n",
    "hidden_layers=[10,10,10]  # define the layers/depth of the NN\n",
    "print(\"Creating a neural network with \"+str(len(hidden_layers))+\" layers and \"+str(iterations)+\" iterations\")\n",
    " \n",
    "mlp = MLPClassifier(hidden_layer_sizes=(hidden_layers), max_iter=iterations) "
   ]
  },
  {
   "cell_type": "code",
   "execution_count": null,
   "metadata": {},
   "outputs": [],
   "source": [
    "# an object which represents the neural network\n",
    "# Remember to use the pre-processed data and not original values for fit()\n",
    "mlp.fit(features_train_scale, iris_class_train)  # fit features over NN"
   ]
  },
  {
   "cell_type": "code",
   "execution_count": null,
   "metadata": {},
   "outputs": [],
   "source": [
    "## Run the test data over the network to see the predicted outcomes.\n",
    "predicted = mlp.predict(features_test_scale)  "
   ]
  },
  {
   "cell_type": "code",
   "execution_count": null,
   "metadata": {},
   "outputs": [],
   "source": [
    "# predict over test data\n",
    "## evaluation metrics and analysing the accuracy/output.\n",
    "print(\"Evaluation: considering the confusion matrix\")\n",
    "from sklearn.metrics import confusion_matrix\n",
    "print(confusion_matrix(iris_class_test,predicted))  \n",
    "# all non-diagonal elements are 0 if you get 100% accuracy"
   ]
  },
  {
   "cell_type": "code",
   "execution_count": null,
   "metadata": {},
   "outputs": [],
   "source": [
    "print(\"Evaluation report:\")\n",
    "from sklearn.metrics import classification_report\n",
    "print(classification_report(iris_class_test,predicted)) \n",
    "#f1-score/accuracy"
   ]
  },
  {
   "cell_type": "code",
   "execution_count": null,
   "metadata": {},
   "outputs": [],
   "source": [
    "\"\"\"\n",
    "precision is the fraction of relevant instances among the retrieved instances and is defined as:\n",
    "precision = tp / (tp + fp) or (true positives)/(prediced positives)\n",
    "\n",
    "recall is the fraction of relevant instances that have been retrieved over total relevant instances in the image, and is defined as\n",
    "recall = tp / (tp + fn) or (true positives)/(actual positives)\n",
    "Where, tp = true positives, fp = false positives anf fn = false negatives. Recall in this context is also referred to as the true positive rate or sensitivity, and precision is also referred to as positive predictive value (PPV).\n",
    "\n",
    "f1-score: is a measure of a test's accuracy. It considers both the precision and the recall to compute the score. The f1-score can be interpreted as a weighted average of the precision and recall, where an f1-score reaches its best value at 1 and worst at 0.\n",
    "The general formula is: 2.(precision.recall)/(precision+recall)\n",
    "The f1-score regulates bot precision and recall.\n",
    "\"\"\""
   ]
  }
 ],
 "metadata": {
  "kernelspec": {
   "display_name": "Python 3",
   "language": "python",
   "name": "python3"
  },
  "language_info": {
   "codemirror_mode": {
    "name": "ipython",
    "version": 3
   },
   "file_extension": ".py",
   "mimetype": "text/x-python",
   "name": "python",
   "nbconvert_exporter": "python",
   "pygments_lexer": "ipython3",
   "version": "3.7.3"
  }
 },
 "nbformat": 4,
 "nbformat_minor": 2
}
